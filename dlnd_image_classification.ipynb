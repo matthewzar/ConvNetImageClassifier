{
 "cells": [
  {
   "cell_type": "markdown",
   "metadata": {
    "collapsed": true
   },
   "source": [
    "# Image Classification\n",
    "In this project, you'll classify images from the [CIFAR-10 dataset](https://www.cs.toronto.edu/~kriz/cifar.html).  The dataset consists of airplanes, dogs, cats, and other objects. You'll preprocess the images, then train a convolutional neural network on all the samples. The images need to be normalized and the labels need to be one-hot encoded.  You'll get to apply what you learned and build a convolutional, max pooling, dropout, and fully connected layers.  At the end, you'll get to see your neural network's predictions on the sample images.\n",
    "## Get the Data\n",
    "Run the following cell to download the [CIFAR-10 dataset for python](https://www.cs.toronto.edu/~kriz/cifar-10-python.tar.gz)."
   ]
  },
  {
   "cell_type": "code",
   "execution_count": 1,
   "metadata": {
    "collapsed": false
   },
   "outputs": [
    {
     "name": "stdout",
     "output_type": "stream",
     "text": [
      "All files found!\n"
     ]
    }
   ],
   "source": [
    "\"\"\"\n",
    "DON'T MODIFY ANYTHING IN THIS CELL THAT IS BELOW THIS LINE\n",
    "\"\"\"\n",
    "from urllib.request import urlretrieve\n",
    "from os.path import isfile, isdir\n",
    "from tqdm import tqdm\n",
    "import problem_unittests as tests\n",
    "import tarfile\n",
    "\n",
    "cifar10_dataset_folder_path = 'cifar-10-batches-py'\n",
    "\n",
    "class DLProgress(tqdm):\n",
    "    last_block = 0\n",
    "\n",
    "    def hook(self, block_num=1, block_size=1, total_size=None):\n",
    "        self.total = total_size\n",
    "        self.update((block_num - self.last_block) * block_size)\n",
    "        self.last_block = block_num\n",
    "\n",
    "if not isfile('cifar-10-python.tar.gz'):\n",
    "    with DLProgress(unit='B', unit_scale=True, miniters=1, desc='CIFAR-10 Dataset') as pbar:\n",
    "        urlretrieve(\n",
    "            'https://www.cs.toronto.edu/~kriz/cifar-10-python.tar.gz',\n",
    "            'cifar-10-python.tar.gz',\n",
    "            pbar.hook)\n",
    "\n",
    "if not isdir(cifar10_dataset_folder_path):\n",
    "    with tarfile.open('cifar-10-python.tar.gz') as tar:\n",
    "        tar.extractall()\n",
    "        tar.close()\n",
    "\n",
    "\n",
    "tests.test_folder_path(cifar10_dataset_folder_path)"
   ]
  },
  {
   "cell_type": "markdown",
   "metadata": {},
   "source": [
    "## Explore the Data\n",
    "The dataset is broken into batches to prevent your machine from running out of memory.  The CIFAR-10 dataset consists of 5 batches, named `data_batch_1`, `data_batch_2`, etc.. Each batch contains the labels and images that are one of the following:\n",
    "* airplane\n",
    "* automobile\n",
    "* bird\n",
    "* cat\n",
    "* deer\n",
    "* dog\n",
    "* frog\n",
    "* horse\n",
    "* ship\n",
    "* truck\n",
    "\n",
    "Understanding a dataset is part of making predictions on the data.  Play around with the code cell below by changing the `batch_id` and `sample_id`. The `batch_id` is the id for a batch (1-5). The `sample_id` is the id for a image and label pair in the batch.\n",
    "\n",
    "Ask yourself \"What are all possible labels?\", \"What is the range of values for the image data?\", \"Are the labels in order or random?\".  Answers to questions like these will help you preprocess the data and end up with better predictions."
   ]
  },
  {
   "cell_type": "code",
   "execution_count": 2,
   "metadata": {
    "collapsed": false
   },
   "outputs": [
    {
     "name": "stdout",
     "output_type": "stream",
     "text": [
      "All labels: ['airplane', 'automobile', 'bird', 'cat', 'deer', 'dog', 'frog', 'horse', 'ship', 'truck']\n",
      "\n",
      "Stats of batch 1:\n",
      "Samples: 10000\n",
      "Label Counts: {0: 1005, 1: 974, 2: 1032, 3: 1016, 4: 999, 5: 937, 6: 1030, 7: 1001, 8: 1025, 9: 981}\n",
      "First 20 Labels: [6, 9, 9, 4, 1, 1, 2, 7, 8, 3, 4, 7, 7, 2, 9, 9, 9, 3, 2, 6]\n",
      "\n",
      "Example of Image 0:\n",
      "Image - Min Value: 0 Max Value: 255\n",
      "Image - Shape: (32, 32, 3)\n",
      "Label - Label Id: 6 Name: frog\n"
     ]
    },
    {
     "data": {
      "image/png": "[encoded data removed]",
      "text/plain": [
       "<matplotlib.figure.Figure at 0x9b4cef0>"
      ]
     },
     "metadata": {
      "image/png": {
       "height": 250,
       "width": 253
      }
     },
     "output_type": "display_data"
    }
   ],
   "source": [
    "%matplotlib inline\n",
    "%config InlineBackend.figure_format = 'retina'\n",
    "\n",
    "import helper\n",
    "import numpy as np\n",
    "\n",
    "# Explore the dataset\n",
    "all_labels = helper._load_label_names()\n",
    "print(\"All labels: \" + str(all_labels))\n",
    "batch_id = 1\n",
    "sample_id = 0\n",
    "helper.display_stats(cifar10_dataset_folder_path, batch_id, sample_id)"
   ]
  },
  {
   "cell_type": "markdown",
   "metadata": {},
   "source": [
    "## Implement Preprocess Functions\n",
    "### Normalize\n",
    "In the cell below, implement the `normalize` function to take in image data, `x`, and return it as a normalized Numpy array. The values should be in the range of 0 to 1, inclusive.  The return object should be the same shape as `x`."
   ]
  },
  {
   "cell_type": "code",
   "execution_count": 3,
   "metadata": {
    "collapsed": false
   },
   "outputs": [
    {
     "name": "stdout",
     "output_type": "stream",
     "text": [
      "Tests Passed\n"
     ]
    }
   ],
   "source": [
    "#adapts general normalizer found here: https://stackoverflow.com/questions/21030391/how-to-normalize-array-numpy#21031303\n",
    "def normalize(x):\n",
    "    \"\"\"\n",
    "    Normalize a list of sample image data in the range of 0 to 1\n",
    "    : x: List of image data.  The image shape is (32, 32, 3)\n",
    "    : return: Numpy array of normalize data\n",
    "    \"\"\"\n",
    "    l2 = np.atleast_1d(np.linalg.norm(x, 32, 3))\n",
    "    l2[l2==0] = 1\n",
    "    return x / np.expand_dims(l2, 32)\n",
    "\n",
    "\"\"\"\n",
    "DON'T MODIFY ANYTHING IN THIS CELL THAT IS BELOW THIS LINE\n",
    "\"\"\"\n",
    "tests.test_normalize(normalize)"
   ]
  },
  {
   "cell_type": "markdown",
   "metadata": {},
   "source": [
    "### One-hot encode\n",
    "Just like the previous code cell, you'll be implementing a function for preprocessing.  This time, you'll implement the `one_hot_encode` function. The input, `x`, are a list of labels.  Implement the function to return the list of labels as One-Hot encoded Numpy array.  The possible values for labels are 0 to 9. The one-hot encoding function should return the same encoding for each value between each call to `one_hot_encode`.  Make sure to save the map of encodings outside the function.\n",
    "\n",
    "Hint: Don't reinvent the wheel."
   ]
  },
  {
   "cell_type": "code",
   "execution_count": 4,
   "metadata": {
    "collapsed": false,
    "scrolled": false
   },
   "outputs": [
    {
     "name": "stdout",
     "output_type": "stream",
     "text": [
      "Tests Passed\n"
     ]
    }
   ],
   "source": [
    "import tensorflow as tf\n",
    "\n",
    "#https://docs.scipy.org/doc/numpy/reference/generated/numpy.eye.html\n",
    "#Eye creates a 2d array with only the diagonal valued at 1, then we return the list/encoding at index x\n",
    "total_label_count = len(all_labels)\n",
    "encodings = np.eye(total_label_count)\n",
    "#pre-declaring encoding (i.e. outside the method) decreases future work\n",
    "\n",
    "def one_hot_encode(x):\n",
    "    \"\"\"\n",
    "    One hot encode a list of sample labels. Return a one-hot encoded vector for each label.\n",
    "    : x: List of sample Labels\n",
    "    : return: Numpy array of one-hot encoded labels\n",
    "    \"\"\"\n",
    "    return encodings[x]\n",
    "\n",
    "\"\"\"\n",
    "DON'T MODIFY ANYTHING IN THIS CELL THAT IS BELOW THIS LINE\n",
    "\"\"\"\n",
    "tests.test_one_hot_encode(one_hot_encode)"
   ]
  },
  {
   "cell_type": "markdown",
   "metadata": {},
   "source": [
    "### Randomize Data\n",
    "As you saw from exploring the data above, the order of the samples are randomized.  It doesn't hurt to randomize it again, but you don't need to for this dataset."
   ]
  },
  {
   "cell_type": "markdown",
   "metadata": {},
   "source": [
    "## Preprocess all the data and save it\n",
    "Running the code cell below will preprocess all the CIFAR-10 data and save it to file. The code below also uses 10% of the training data for validation."
   ]
  },
  {
   "cell_type": "code",
   "execution_count": 5,
   "metadata": {
    "collapsed": false
   },
   "outputs": [],
   "source": [
    "\"\"\"\n",
    "DON'T MODIFY ANYTHING IN THIS CELL\n",
    "\"\"\"\n",
    "# Preprocess Training, Validation, and Testing Data\n",
    "helper.preprocess_and_save_data(cifar10_dataset_folder_path, normalize, one_hot_encode)"
   ]
  },
  {
   "cell_type": "markdown",
   "metadata": {},
   "source": [
    "# Check Point\n",
    "This is your first checkpoint.  If you ever decide to come back to this notebook or have to restart the notebook, you can start from here.  The preprocessed data has been saved to disk."
   ]
  },
  {
   "cell_type": "code",
   "execution_count": 2,
   "metadata": {
    "collapsed": true
   },
   "outputs": [],
   "source": [
    "\"\"\"\n",
    "DON'T MODIFY ANYTHING IN THIS CELL\n",
    "\"\"\"\n",
    "import pickle\n",
    "import problem_unittests as tests\n",
    "import helper\n",
    "\n",
    "# Load the Preprocessed Validation data\n",
    "valid_features, valid_labels = pickle.load(open('preprocess_validation.p', mode='rb'))"
   ]
  },
  {
   "cell_type": "markdown",
   "metadata": {},
   "source": [
    "## Build the network\n",
    "For the neural network, you'll build each layer into a function.  Most of the code you've seen has been outside of functions. To test your code more thoroughly, we require that you put each layer in a function.  This allows us to give you better feedback and test for simple mistakes using our unittests before you submit your project.\n",
    "\n",
    ">**Note:** If you're finding it hard to dedicate enough time for this course each week, we've provided a small shortcut to this part of the project. In the next couple of problems, you'll have the option to use classes from the [TensorFlow Layers](https://www.tensorflow.org/api_docs/python/tf/layers) or [TensorFlow Layers (contrib)](https://www.tensorflow.org/api_guides/python/contrib.layers) packages to build each layer, except the layers you build in the \"Convolutional and Max Pooling Layer\" section.  TF Layers is similar to Keras's and TFLearn's abstraction to layers, so it's easy to pickup.\n",
    "\n",
    ">However, if you would like to get the most out of this course, try to solve all the problems _without_ using anything from the TF Layers packages. You **can** still use classes from other packages that happen to have the same name as ones you find in TF Layers! For example, instead of using the TF Layers version of the `conv2d` class, [tf.layers.conv2d](https://www.tensorflow.org/api_docs/python/tf/layers/conv2d), you would want to use the TF Neural Network version of `conv2d`, [tf.nn.conv2d](https://www.tensorflow.org/api_docs/python/tf/nn/conv2d). \n",
    "\n",
    "Let's begin!\n",
    "\n",
    "### Input\n",
    "The neural network needs to read the image data, one-hot encoded labels, and dropout keep probability. Implement the following functions\n",
    "* Implement `neural_net_image_input`\n",
    " * Return a [TF Placeholder](https://www.tensorflow.org/api_docs/python/tf/placeholder)\n",
    " * Set the shape using `image_shape` with batch size set to `None`.\n",
    " * Name the TensorFlow placeholder \"x\" using the TensorFlow `name` parameter in the [TF Placeholder](https://www.tensorflow.org/api_docs/python/tf/placeholder).\n",
    "* Implement `neural_net_label_input`\n",
    " * Return a [TF Placeholder](https://www.tensorflow.org/api_docs/python/tf/placeholder)\n",
    " * Set the shape using `n_classes` with batch size set to `None`.\n",
    " * Name the TensorFlow placeholder \"y\" using the TensorFlow `name` parameter in the [TF Placeholder](https://www.tensorflow.org/api_docs/python/tf/placeholder).\n",
    "* Implement `neural_net_keep_prob_input`\n",
    " * Return a [TF Placeholder](https://www.tensorflow.org/api_docs/python/tf/placeholder) for dropout keep probability.\n",
    " * Name the TensorFlow placeholder \"keep_prob\" using the TensorFlow `name` parameter in the [TF Placeholder](https://www.tensorflow.org/api_docs/python/tf/placeholder).\n",
    "\n",
    "These names will be used at the end of the project to load your saved model.\n",
    "\n",
    "Note: `None` for shapes in TensorFlow allow for a dynamic size."
   ]
  },
  {
   "cell_type": "code",
   "execution_count": 3,
   "metadata": {
    "collapsed": false
   },
   "outputs": [
    {
     "name": "stdout",
     "output_type": "stream",
     "text": [
      "Image Input Tests Passed.\n",
      "Label Input Tests Passed.\n",
      "Keep Prob Tests Passed.\n"
     ]
    }
   ],
   "source": [
    "import tensorflow as tf\n",
    "\n",
    "def neural_net_image_input(image_shape):\n",
    "    \"\"\"\n",
    "    Return a Tensor for a bach of image input\n",
    "    : image_shape: Shape of the images\n",
    "    : return: Tensor for image input.\n",
    "    \"\"\"\n",
    "    return tf.placeholder(tf.float32, shape=(None,image_shape[0],image_shape[1],image_shape[2]), name='x')\n",
    "\n",
    "\n",
    "def neural_net_label_input(n_classes):\n",
    "    \"\"\"\n",
    "    Return a Tensor for a batch of label input\n",
    "    : n_classes: Number of classes\n",
    "    : return: Tensor for label input.\n",
    "    \"\"\"\n",
    "    return tf.placeholder(tf.float32, shape=(None,n_classes), name='y')\n",
    "\n",
    "\n",
    "def neural_net_keep_prob_input():\n",
    "    \"\"\"\n",
    "    Return a Tensor for keep probability\n",
    "    : return: Tensor for keep probability.\n",
    "    \"\"\"\n",
    "    return tf.placeholder(tf.float32, name='keep_prob')\n",
    "\n",
    "\n",
    "\"\"\"\n",
    "DON'T MODIFY ANYTHING IN THIS CELL THAT IS BELOW THIS LINE\n",
    "\"\"\"\n",
    "tf.reset_default_graph()\n",
    "tests.test_nn_image_inputs(neural_net_image_input)\n",
    "tests.test_nn_label_inputs(neural_net_label_input)\n",
    "tests.test_nn_keep_prob_inputs(neural_net_keep_prob_input)"
   ]
  },
  {
   "cell_type": "markdown",
   "metadata": {},
   "source": [
    "### Convolution and Max Pooling Layer\n",
    "Convolution layers have a lot of success with images. For this code cell, you should implement the function `conv2d_maxpool` to apply convolution then max pooling:\n",
    "* Create the weight and bias using `conv_ksize`, `conv_num_outputs` and the shape of `x_tensor`.\n",
    "* Apply a convolution to `x_tensor` using weight and `conv_strides`.\n",
    " * We recommend you use same padding, but you're welcome to use any padding.\n",
    "* Add bias\n",
    "* Add a nonlinear activation to the convolution.\n",
    "* Apply Max Pooling using `pool_ksize` and `pool_strides`.\n",
    " * We recommend you use same padding, but you're welcome to use any padding.\n",
    "\n",
    "**Note:** You **can't** use [TensorFlow Layers](https://www.tensorflow.org/api_docs/python/tf/layers) or [TensorFlow Layers (contrib)](https://www.tensorflow.org/api_guides/python/contrib.layers) for **this** layer, but you can still use TensorFlow's [Neural Network](https://www.tensorflow.org/api_docs/python/tf/nn) package. You may still use the shortcut option for all the **other** layers."
   ]
  },
  {
   "cell_type": "code",
   "execution_count": 4,
   "metadata": {
    "collapsed": false
   },
   "outputs": [
    {
     "name": "stdout",
     "output_type": "stream",
     "text": [
      "Tests Passed\n"
     ]
    }
   ],
   "source": [
    "def conv2d_maxpool(x_tensor, conv_num_outputs, conv_ksize, conv_strides, pool_ksize, pool_strides):\n",
    "    \"\"\"\n",
    "    Apply convolution then max pooling to x_tensor\n",
    "    :param x_tensor: TensorFlow Tensor\n",
    "    :param conv_num_outputs: Number of outputs for the convolutional layer\n",
    "    :param conv_ksize: kernal size 2-D Tuple for the convolutional layer\n",
    "    :param conv_strides: Stride 2-D Tuple for convolution\n",
    "    :param pool_ksize: kernal size 2-D Tuple for pool\n",
    "    :param pool_strides: Stride 2-D Tuple for pool\n",
    "    : return: A tensor that represents convolution and max pooling of x_tensor\n",
    "    \"\"\"\n",
    "    color_channels = int(x_tensor.shape[3])\n",
    "    \n",
    "    # Weight and bias                        filter height,  filter width ,                ,k_output\n",
    "    #weight = tf.Variable(tf.truncated_normal([conv_ksize[0], conv_ksize[1], color_channels, conv_num_outputs]))\n",
    "    #! @TUTOR/REVIEWER: why does the above weight generation technique devolve to 10% acurracy on the same architecture,\n",
    "    #! but the one below performs really well? The above method was the one showed to us in lessons...\n",
    "    weight = tf.Variable(tf.random_normal([conv_ksize[0], conv_ksize[1], color_channels, conv_num_outputs], stddev=0.1))\n",
    "    bias = tf.Variable(tf.zeros(conv_num_outputs))\n",
    "    \n",
    "    # Apply Convolution\n",
    "    conv_layer = tf.nn.conv2d(x_tensor, weight, strides=[1, conv_strides[0], conv_strides[1], 1], padding='VALID')\n",
    "    # Add bias\n",
    "    conv_layer = tf.nn.bias_add(conv_layer, bias)\n",
    "    # Apply activation function\n",
    "    conv_layer = tf.nn.relu(conv_layer)\n",
    "    \n",
    "    # Apply Max Pooling\n",
    "    conv_layer = tf.nn.max_pool(\n",
    "                        conv_layer,\n",
    "                        ksize=[1, pool_ksize[0], pool_ksize[1], 1],\n",
    "                        strides=[1, pool_strides[0], pool_strides[1], 1],\n",
    "                        padding='VALID')\n",
    "    return conv_layer \n",
    "\n",
    "\n",
    "\"\"\"\n",
    "DON'T MODIFY ANYTHING IN THIS CELL THAT IS BELOW THIS LINE\n",
    "\"\"\"\n",
    "tests.test_con_pool(conv2d_maxpool)"
   ]
  },
  {
   "cell_type": "markdown",
   "metadata": {},
   "source": [
    "### Flatten Layer\n",
    "Implement the `flatten` function to change the dimension of `x_tensor` from a 4-D tensor to a 2-D tensor.  The output should be the shape (*Batch Size*, *Flattened Image Size*). Shortcut option: you can use classes from the [TensorFlow Layers](https://www.tensorflow.org/api_docs/python/tf/layers) or [TensorFlow Layers (contrib)](https://www.tensorflow.org/api_guides/python/contrib.layers) packages for this layer. For more of a challenge, only use other TensorFlow packages."
   ]
  },
  {
   "cell_type": "code",
   "execution_count": 5,
   "metadata": {
    "collapsed": false
   },
   "outputs": [
    {
     "name": "stdout",
     "output_type": "stream",
     "text": [
      "Tests Passed\n"
     ]
    }
   ],
   "source": [
    "def flatten(x_tensor):\n",
    "    \"\"\"\n",
    "    Flatten x_tensor to (Batch Size, Flattened Image Size)\n",
    "    : x_tensor: A tensor of size (Batch Size, ...), where ... are the image dimensions.\n",
    "    : return: A tensor of size (Batch Size, Flattened Image Size).\n",
    "    \"\"\"\n",
    "    sizes = x_tensor.get_shape().as_list()\n",
    "    #sizes[0] is batch size. 1,2, and 3 are convolved dimensions\n",
    "    return tf.reshape(x_tensor, [-1, sizes[1]*sizes[2]*sizes[3]])\n",
    "\n",
    "\n",
    "\"\"\"\n",
    "DON'T MODIFY ANYTHING IN THIS CELL THAT IS BELOW THIS LINE\n",
    "\"\"\"\n",
    "tests.test_flatten(flatten)\n"
   ]
  },
  {
   "cell_type": "markdown",
   "metadata": {},
   "source": [
    "### Fully-Connected Layer\n",
    "Implement the `fully_conn` function to apply a fully connected layer to `x_tensor` with the shape (*Batch Size*, *num_outputs*). Shortcut option: you can use classes from the [TensorFlow Layers](https://www.tensorflow.org/api_docs/python/tf/layers) or [TensorFlow Layers (contrib)](https://www.tensorflow.org/api_guides/python/contrib.layers) packages for this layer. For more of a challenge, only use other TensorFlow packages."
   ]
  },
  {
   "cell_type": "code",
   "execution_count": 6,
   "metadata": {
    "collapsed": false
   },
   "outputs": [
    {
     "name": "stdout",
     "output_type": "stream",
     "text": [
      "Tests Passed\n"
     ]
    }
   ],
   "source": [
    "def fully_conn(x_tensor, num_outputs):\n",
    "    \"\"\"\n",
    "    Apply a fully connected layer to x_tensor using weight and bias\n",
    "    : x_tensor: A 2-D tensor where the first dimension is batch size.\n",
    "    : num_outputs: The number of output that the new tensor should be.\n",
    "    : return: A 2-D tensor where the second dimension is num_outputs.\n",
    "    \"\"\"\n",
    "    w_shape = (int(x_tensor.get_shape().as_list()[1]), num_outputs)\n",
    "    sizes = x_tensor.get_shape().as_list()\n",
    "\n",
    "    #weight = tf.Variable(tf.truncated_normal((int(sizes[1]), num_outputs)))\n",
    "    #! @TUTOR/REVIEWER: why does the above weight generation technique devolve to 10% acurracy on the same architecture,\n",
    "    #! but the one below performs really well? The above method was the one showed to us in lessons...\n",
    "    weight = tf.Variable(tf.random_normal((int(sizes[1]), num_outputs), stddev=0.1))\n",
    "    bias = tf.Variable(tf.zeros(num_outputs))\n",
    "    \n",
    "    fc = tf.add(tf.matmul(x_tensor, weight), bias)\n",
    "    fc = tf.nn.relu(fc)\n",
    "    \n",
    "    return fc\n",
    "\n",
    "\n",
    "\"\"\"\n",
    "DON'T MODIFY ANYTHING IN THIS CELL THAT IS BELOW THIS LINE\n",
    "\"\"\"\n",
    "tests.test_fully_conn(fully_conn)"
   ]
  },
  {
   "cell_type": "markdown",
   "metadata": {},
   "source": [
    "### Output Layer\n",
    "Implement the `output` function to apply a fully connected layer to `x_tensor` with the shape (*Batch Size*, *num_outputs*). Shortcut option: you can use classes from the [TensorFlow Layers](https://www.tensorflow.org/api_docs/python/tf/layers) or [TensorFlow Layers (contrib)](https://www.tensorflow.org/api_guides/python/contrib.layers) packages for this layer. For more of a challenge, only use other TensorFlow packages.\n",
    "\n",
    "**Note:** Activation, softmax, or cross entropy should **not** be applied to this."
   ]
  },
  {
   "cell_type": "code",
   "execution_count": 7,
   "metadata": {
    "collapsed": false
   },
   "outputs": [
    {
     "name": "stdout",
     "output_type": "stream",
     "text": [
      "Tests Passed\n"
     ]
    }
   ],
   "source": [
    "def output(x_tensor, num_outputs):\n",
    "    \"\"\"\n",
    "    Apply a output layer to x_tensor using weight and bias\n",
    "    : x_tensor: A 2-D tensor where the first dimension is batch size.\n",
    "    : num_outputs: The number of output that the new tensor should be.\n",
    "    : return: A 2-D tensor where the second dimension is num_outputs.\n",
    "    \"\"\"\n",
    "    sizes = x_tensor.get_shape().as_list()\n",
    "          \n",
    "    #weight = tf.Variable(tf.truncated_normal([int(sizes[1]), num_outputs]))\n",
    "    #! @TUTOR/REVIEWER: why does the above weight generation technique devolve to 10% acurracy on the same architecture,\n",
    "    #! but the one below performs really well? The above method was the one showed to us in lessons...\n",
    "    weight = tf.Variable(tf.random_normal([int(sizes[1]), num_outputs], stddev=0.1))\n",
    "    bias = tf.Variable(tf.zeros(num_outputs))\n",
    "    \n",
    "    fc = tf.add(tf.matmul(x_tensor, weight), bias)\n",
    "    \n",
    "    return fc\n",
    "\n",
    "\n",
    "\"\"\"\n",
    "DON'T MODIFY ANYTHING IN THIS CELL THAT IS BELOW THIS LINE\n",
    "\"\"\"\n",
    "tests.test_output(output)"
   ]
  },
  {
   "cell_type": "markdown",
   "metadata": {},
   "source": [
    "### Create Convolutional Model\n",
    "Implement the function `conv_net` to create a convolutional neural network model. The function takes in a batch of images, `x`, and outputs logits.  Use the layers you created above to create this model:\n",
    "\n",
    "* Apply 1, 2, or 3 Convolution and Max Pool layers\n",
    "* Apply a Flatten Layer\n",
    "* Apply 1, 2, or 3 Fully Connected Layers\n",
    "* Apply an Output Layer\n",
    "* Return the output\n",
    "* Apply [TensorFlow's Dropout](https://www.tensorflow.org/api_docs/python/tf/nn/dropout) to one or more layers in the model using `keep_prob`. "
   ]
  },
  {
   "cell_type": "code",
   "execution_count": 20,
   "metadata": {
    "collapsed": false
   },
   "outputs": [
    {
     "name": "stdout",
     "output_type": "stream",
     "text": [
      "Conv 1: [None, 28, 28, 30]\n",
      "Conv 2: [None, 14, 14, 30]\n",
      "Conv 3: [None, 3, 3, 70]\n",
      "Flattened : [None, 630]\n",
      "FC 1 : [None, 512]\n",
      "FC 2 : [None, 128]\n",
      "Conv 1: [None, 28, 28, 30]\n",
      "Conv 2: [None, 14, 14, 30]\n",
      "Conv 3: [None, 3, 3, 70]\n",
      "Flattened : [None, 630]\n",
      "FC 1 : [None, 512]\n",
      "FC 2 : [None, 128]\n",
      "Neural Network Built!\n"
     ]
    }
   ],
   "source": [
    "def conv_net(x, keep_prob):\n",
    "    \"\"\"\n",
    "    Create a convolutional neural network model\n",
    "    : x: Placeholder tensor that holds image data.\n",
    "    : keep_prob: Placeholder tensor that hold dropout keep probability.\n",
    "    : return: Tensor that represents logits\n",
    "    \"\"\"\n",
    "    # TODO: Apply 1, 2, or 3 Convolution and Max Pool layers\n",
    "    #    Play around with different number of outputs, kernel size and stride\n",
    "    # Function Definition from Above:\n",
    "    #    conv2d_maxpool(x_tensor, conv_num_outputs, conv_ksize, conv_strides, pool_ksize, pool_strides)\n",
    "    x = conv2d_maxpool(x, 30, (3, 3), (1, 1), (3, 3), (1, 1))\n",
    "    print(\"Conv 1: \" + str(x.get_shape().as_list()))\n",
    "    x = conv2d_maxpool(x, 30, (1, 1), (1, 1), (2, 2), (2, 2))\n",
    "    print(\"Conv 2: \" + str(x.get_shape().as_list()))\n",
    "    x = conv2d_maxpool(x, 70, (4, 4), (2, 2), (2, 2), (2, 2))\n",
    "    print(\"Conv 3: \" + str(x.get_shape().as_list()))\n",
    "\n",
    "    # TODO: Apply a Flatten Layer\n",
    "    # Function Definition from Above:\n",
    "    #   flatten(x_tensor)\n",
    "    x = flatten(x)\n",
    "    print(\"Flattened : \" + str(x.get_shape().as_list()))\n",
    "    \n",
    "\n",
    "    # TODO: Apply 1, 2, or 3 Fully Connected Layers\n",
    "    #    Play around with different number of outputs\n",
    "    # Function Definition from Above:\n",
    "    #   fully_conn(x_tensor, num_outputs)\n",
    "    x = fully_conn(x, 512)\n",
    "    print(\"FC 1 : \" + str(x.get_shape().as_list()))\n",
    "    x = tf.nn.dropout(x, keep_prob)\n",
    "    x = fully_conn(x, 128)\n",
    "    print(\"FC 2 : \" + str(x.get_shape().as_list()))\n",
    "    x = tf.nn.dropout(x, keep_prob)\n",
    "    \n",
    "    \n",
    "    # TODO: Apply an Output Layer\n",
    "    #    Set this to the number of classes\n",
    "    # Function Definition from Above:\n",
    "    #   output(x_tensor, num_outputs)\n",
    "    out = output(x, 10)\n",
    "    \n",
    "    \n",
    "    # TODO: return output\n",
    "    return out\n",
    "\n",
    "\n",
    "\"\"\"\n",
    "DON'T MODIFY ANYTHING IN THIS CELL THAT IS BELOW THIS LINE\n",
    "\"\"\"\n",
    "\n",
    "##############################\n",
    "## Build the Neural Network ##\n",
    "##############################\n",
    "\n",
    "# Remove previous weights, bias, inputs, etc..\n",
    "tf.reset_default_graph()\n",
    "\n",
    "# Inputs\n",
    "x = neural_net_image_input((32, 32, 3))\n",
    "y = neural_net_label_input(10)\n",
    "keep_prob = neural_net_keep_prob_input()\n",
    "\n",
    "# Model\n",
    "logits = conv_net(x, keep_prob)\n",
    "\n",
    "# Name logits Tensor, so that is can be loaded from disk after training\n",
    "logits = tf.identity(logits, name='logits')\n",
    "\n",
    "# Loss and Optimizer\n",
    "cost = tf.reduce_mean(tf.nn.softmax_cross_entropy_with_logits(logits=logits, labels=y))\n",
    "optimizer = tf.train.AdamOptimizer().minimize(cost)\n",
    "\n",
    "# Accuracy\n",
    "correct_pred = tf.equal(tf.argmax(logits, 1), tf.argmax(y, 1))\n",
    "accuracy = tf.reduce_mean(tf.cast(correct_pred, tf.float32), name='accuracy')\n",
    "\n",
    "tests.test_conv_net(conv_net)"
   ]
  },
  {
   "cell_type": "markdown",
   "metadata": {},
   "source": [
    "## Train the Neural Network\n",
    "### Single Optimization\n",
    "Implement the function `train_neural_network` to do a single optimization.  The optimization should use `optimizer` to optimize in `session` with a `feed_dict` of the following:\n",
    "* `x` for image input\n",
    "* `y` for labels\n",
    "* `keep_prob` for keep probability for dropout\n",
    "\n",
    "This function will be called for each batch, so `tf.global_variables_initializer()` has already been called.\n",
    "\n",
    "Note: Nothing needs to be returned. This function is only optimizing the neural network."
   ]
  },
  {
   "cell_type": "code",
   "execution_count": 21,
   "metadata": {
    "collapsed": false
   },
   "outputs": [
    {
     "name": "stdout",
     "output_type": "stream",
     "text": [
      "Tests Passed\n"
     ]
    }
   ],
   "source": [
    "def train_neural_network(session, optimizer, keep_probability, feature_batch, label_batch):\n",
    "    \"\"\"\n",
    "    Optimize the session on a batch of images and labels\n",
    "    : session: Current TensorFlow session\n",
    "    : optimizer: TensorFlow optimizer function\n",
    "    : keep_probability: keep probability\n",
    "    : feature_batch: Batch of Numpy image data\n",
    "    : label_batch: Batch of Numpy label data\n",
    "    \"\"\"\n",
    "    session.run(optimizer, feed_dict={\n",
    "                        x: feature_batch,\n",
    "                        y: label_batch,\n",
    "                        keep_prob: keep_probability})\n",
    "\n",
    "\n",
    "\"\"\"\n",
    "DON'T MODIFY ANYTHING IN THIS CELL THAT IS BELOW THIS LINE\n",
    "\"\"\"\n",
    "tests.test_train_nn(train_neural_network)"
   ]
  },
  {
   "cell_type": "markdown",
   "metadata": {},
   "source": [
    "### Show Stats\n",
    "Implement the function `print_stats` to print loss and validation accuracy.  Use the global variables `valid_features` and `valid_labels` to calculate validation accuracy.  Use a keep probability of `1.0` to calculate the loss and validation accuracy."
   ]
  },
  {
   "cell_type": "code",
   "execution_count": 22,
   "metadata": {
    "collapsed": false
   },
   "outputs": [],
   "source": [
    "def print_stats(session, feature_batch, label_batch, cost, accuracy):\n",
    "    \"\"\"\n",
    "    Print information about loss and validation accuracy\n",
    "    : session: Current TensorFlow session\n",
    "    : feature_batch: Batch of Numpy image data\n",
    "    : label_batch: Batch of Numpy label data\n",
    "    : cost: TensorFlow cost function\n",
    "    : accuracy: TensorFlow accuracy function\n",
    "    \"\"\"\n",
    "    loss = sess.run(cost, feed_dict={\n",
    "                x: feature_batch,\n",
    "                y: label_batch,\n",
    "                keep_prob: 1.})\n",
    "    valid_acc = sess.run(accuracy, feed_dict={\n",
    "                x: valid_features,\n",
    "                y: valid_labels,\n",
    "                keep_prob: 1.})\n",
    "    print('Loss: {:>10.4f} Validation Accuracy: {:.6f} L/V: {:.6f}'.format(loss, valid_acc, loss/valid_acc))"
   ]
  },
  {
   "cell_type": "markdown",
   "metadata": {},
   "source": [
    "### Hyperparameters\n",
    "Tune the following parameters:\n",
    "* Set `epochs` to the number of iterations until the network stops learning or start overfitting\n",
    "* Set `batch_size` to the highest number that your machine has memory for.  Most people set them to common sizes of memory:\n",
    " * 64\n",
    " * 128\n",
    " * 256\n",
    " * ...\n",
    "* Set `keep_probability` to the probability of keeping a node using dropout"
   ]
  },
  {
   "cell_type": "code",
   "execution_count": 11,
   "metadata": {
    "collapsed": true
   },
   "outputs": [],
   "source": [
    "# TODO: Tune Parameters\n",
    "epochs = 50\n",
    "batch_size = 256\n",
    "keep_probability = .5"
   ]
  },
  {
   "cell_type": "markdown",
   "metadata": {},
   "source": [
    "### Train on a Single CIFAR-10 Batch\n",
    "Instead of training the neural network on all the CIFAR-10 batches of data, let's use a single batch. This should save time while you iterate on the model to get a better accuracy.  Once the final validation accuracy is 50% or greater, run the model on all the data in the next section."
   ]
  },
  {
   "cell_type": "code",
   "execution_count": 23,
   "metadata": {
    "collapsed": false
   },
   "outputs": [
    {
     "name": "stdout",
     "output_type": "stream",
     "text": [
      "Checking the Training on a Single Batch...\n",
      "Epoch  1, CIFAR-10 Batch 1:  Loss:     2.1388 Validation Accuracy: 0.220200 L/V: 9.712950\n",
      "Epoch  2, CIFAR-10 Batch 1:  Loss:     1.9865 Validation Accuracy: 0.257800 L/V: 7.705542\n",
      "Epoch  3, CIFAR-10 Batch 1:  Loss:     1.8625 Validation Accuracy: 0.301200 L/V: 6.183678\n",
      "Epoch  4, CIFAR-10 Batch 1:  Loss:     1.7661 Validation Accuracy: 0.322200 L/V: 5.481352\n",
      "Epoch  5, CIFAR-10 Batch 1:  Loss:     1.6761 Validation Accuracy: 0.350200 L/V: 4.786139\n",
      "Epoch  6, CIFAR-10 Batch 1:  Loss:     1.6411 Validation Accuracy: 0.334800 L/V: 4.901878\n",
      "Epoch  7, CIFAR-10 Batch 1:  Loss:     1.5495 Validation Accuracy: 0.347200 L/V: 4.462802\n",
      "Epoch  8, CIFAR-10 Batch 1:  Loss:     1.4798 Validation Accuracy: 0.392800 L/V: 3.767414\n",
      "Epoch  9, CIFAR-10 Batch 1:  Loss:     1.3848 Validation Accuracy: 0.404200 L/V: 3.425938\n",
      "Epoch 10, CIFAR-10 Batch 1:  Loss:     1.3555 Validation Accuracy: 0.412800 L/V: 3.283646\n",
      "Epoch 11, CIFAR-10 Batch 1:  Loss:     1.3075 Validation Accuracy: 0.422800 L/V: 3.092569\n",
      "Epoch 12, CIFAR-10 Batch 1:  Loss:     1.1731 Validation Accuracy: 0.439600 L/V: 2.668481\n",
      "Epoch 13, CIFAR-10 Batch 1:  Loss:     1.1581 Validation Accuracy: 0.437400 L/V: 2.647742\n",
      "Epoch 14, CIFAR-10 Batch 1:  Loss:     1.0978 Validation Accuracy: 0.432000 L/V: 2.541111\n",
      "Epoch 15, CIFAR-10 Batch 1:  Loss:     1.0852 Validation Accuracy: 0.444800 L/V: 2.439649\n",
      "Epoch 16, CIFAR-10 Batch 1:  Loss:     1.0392 Validation Accuracy: 0.440400 L/V: 2.359782\n",
      "Epoch 17, CIFAR-10 Batch 1:  Loss:     0.9431 Validation Accuracy: 0.466400 L/V: 2.022093\n",
      "Epoch 18, CIFAR-10 Batch 1:  Loss:     0.9596 Validation Accuracy: 0.466600 L/V: 2.056592\n",
      "Epoch 19, CIFAR-10 Batch 1:  Loss:     0.8897 Validation Accuracy: 0.473200 L/V: 1.880213\n",
      "Epoch 20, CIFAR-10 Batch 1:  Loss:     0.8094 Validation Accuracy: 0.487800 L/V: 1.659307\n",
      "Epoch 21, CIFAR-10 Batch 1:  Loss:     0.7657 Validation Accuracy: 0.480800 L/V: 1.592528\n",
      "Epoch 22, CIFAR-10 Batch 1:  Loss:     0.6755 Validation Accuracy: 0.487800 L/V: 1.384842\n",
      "Epoch 23, CIFAR-10 Batch 1:  Loss:     0.6701 Validation Accuracy: 0.480200 L/V: 1.395562\n",
      "Epoch 24, CIFAR-10 Batch 1:  Loss:     0.6429 Validation Accuracy: 0.474000 L/V: 1.356273\n",
      "Epoch 25, CIFAR-10 Batch 1:  Loss:     0.5767 Validation Accuracy: 0.495000 L/V: 1.164955\n",
      "Epoch 26, CIFAR-10 Batch 1:  Loss:     0.5176 Validation Accuracy: 0.489800 L/V: 1.056685\n",
      "Epoch 27, CIFAR-10 Batch 1:  Loss:     0.5201 Validation Accuracy: 0.498400 L/V: 1.043632\n",
      "Epoch 28, CIFAR-10 Batch 1:  Loss:     0.4887 Validation Accuracy: 0.491000 L/V: 0.995270\n",
      "Epoch 29, CIFAR-10 Batch 1:  Loss:     0.4283 Validation Accuracy: 0.484400 L/V: 0.884123\n",
      "Epoch 30, CIFAR-10 Batch 1:  Loss:     0.4134 Validation Accuracy: 0.478600 L/V: 0.863835\n",
      "Epoch 31, CIFAR-10 Batch 1:  Loss:     0.4240 Validation Accuracy: 0.502400 L/V: 0.844032\n",
      "Epoch 32, CIFAR-10 Batch 1:  Loss:     0.4288 Validation Accuracy: 0.505800 L/V: 0.847671\n",
      "Epoch 33, CIFAR-10 Batch 1:  Loss:     0.3524 Validation Accuracy: 0.503800 L/V: 0.699540\n",
      "Epoch 34, CIFAR-10 Batch 1:  Loss:     0.3472 Validation Accuracy: 0.507800 L/V: 0.683776\n",
      "Epoch 35, CIFAR-10 Batch 1:  Loss:     0.3518 Validation Accuracy: 0.496800 L/V: 0.708117\n",
      "Epoch 36, CIFAR-10 Batch 1:  Loss:     0.3146 Validation Accuracy: 0.496200 L/V: 0.633941\n",
      "Epoch 37, CIFAR-10 Batch 1:  Loss:     0.2795 Validation Accuracy: 0.488000 L/V: 0.572793\n",
      "Epoch 38, CIFAR-10 Batch 1:  Loss:     0.2708 Validation Accuracy: 0.493800 L/V: 0.548472\n",
      "Epoch 39, CIFAR-10 Batch 1:  Loss:     0.2415 Validation Accuracy: 0.490000 L/V: 0.492937\n",
      "Epoch 40, CIFAR-10 Batch 1:  Loss:     0.2663 Validation Accuracy: 0.497200 L/V: 0.535696\n",
      "Epoch 41, CIFAR-10 Batch 1:  Loss:     0.2865 Validation Accuracy: 0.482000 L/V: 0.594379\n",
      "Epoch 42, CIFAR-10 Batch 1:  Loss:     0.2596 Validation Accuracy: 0.488000 L/V: 0.532025\n",
      "Epoch 43, CIFAR-10 Batch 1:  Loss:     0.2034 Validation Accuracy: 0.496200 L/V: 0.409870\n",
      "Epoch 44, CIFAR-10 Batch 1:  Loss:     0.1951 Validation Accuracy: 0.484400 L/V: 0.402730\n",
      "Epoch 45, CIFAR-10 Batch 1:  Loss:     0.1658 Validation Accuracy: 0.504000 L/V: 0.328944\n",
      "Epoch 46, CIFAR-10 Batch 1:  Loss:     0.1756 Validation Accuracy: 0.481200 L/V: 0.365016\n",
      "Epoch 47, CIFAR-10 Batch 1:  Loss:     0.1672 Validation Accuracy: 0.493400 L/V: 0.338894\n",
      "Epoch 48, CIFAR-10 Batch 1:  Loss:     0.1350 Validation Accuracy: 0.494800 L/V: 0.272897\n",
      "Epoch 49, CIFAR-10 Batch 1:  Loss:     0.1459 Validation Accuracy: 0.497400 L/V: 0.293361\n",
      "Epoch 50, CIFAR-10 Batch 1:  Loss:     0.1170 Validation Accuracy: 0.505000 L/V: 0.231754\n"
     ]
    }
   ],
   "source": [
    "\"\"\"\n",
    "DON'T MODIFY ANYTHING IN THIS CELL\n",
    "\"\"\"\n",
    "print('Checking the Training on a Single Batch...')\n",
    "with tf.Session() as sess:\n",
    "    # Initializing the variables\n",
    "    sess.run(tf.global_variables_initializer())\n",
    "    \n",
    "    # Training cycle\n",
    "    for epoch in range(epochs):\n",
    "        batch_i = 1\n",
    "        for batch_features, batch_labels in helper.load_preprocess_training_batch(batch_i, batch_size):\n",
    "            train_neural_network(sess, optimizer, keep_probability, batch_features, batch_labels)\n",
    "        print('Epoch {:>2}, CIFAR-10 Batch {}:  '.format(epoch + 1, batch_i), end='')\n",
    "        print_stats(sess, batch_features, batch_labels, cost, accuracy)"
   ]
  },
  {
   "cell_type": "markdown",
   "metadata": {},
   "source": [
    "### Fully Train the Model\n",
    "Now that you got a good accuracy with a single CIFAR-10 batch, try it with all five batches."
   ]
  },
  {
   "cell_type": "code",
   "execution_count": 24,
   "metadata": {
    "collapsed": false
   },
   "outputs": [
    {
     "name": "stdout",
     "output_type": "stream",
     "text": [
      "Training...\n",
      "Epoch  1, CIFAR-10 Batch 1:  Loss:     2.1417 Validation Accuracy: 0.211200 L/V: 10.140456\n",
      "Epoch  1, CIFAR-10 Batch 2:  Loss:     2.0089 Validation Accuracy: 0.253000 L/V: 7.940142\n",
      "Epoch  1, CIFAR-10 Batch 3:  Loss:     1.7381 Validation Accuracy: 0.300000 L/V: 5.793608\n",
      "Epoch  1, CIFAR-10 Batch 4:  Loss:     1.9248 Validation Accuracy: 0.303000 L/V: 6.352383\n",
      "Epoch  1, CIFAR-10 Batch 5:  Loss:     1.9067 Validation Accuracy: 0.336800 L/V: 5.661107\n",
      "Epoch  2, CIFAR-10 Batch 1:  Loss:     1.7931 Validation Accuracy: 0.330000 L/V: 5.433733\n",
      "Epoch  2, CIFAR-10 Batch 2:  Loss:     1.5868 Validation Accuracy: 0.361600 L/V: 4.388202\n",
      "Epoch  2, CIFAR-10 Batch 3:  Loss:     1.3870 Validation Accuracy: 0.360400 L/V: 3.848590\n",
      "Epoch  2, CIFAR-10 Batch 4:  Loss:     1.6956 Validation Accuracy: 0.369200 L/V: 4.592509\n",
      "Epoch  2, CIFAR-10 Batch 5:  Loss:     1.7231 Validation Accuracy: 0.384800 L/V: 4.477947\n",
      "Epoch  3, CIFAR-10 Batch 1:  Loss:     1.6244 Validation Accuracy: 0.392200 L/V: 4.141652\n",
      "Epoch  3, CIFAR-10 Batch 2:  Loss:     1.4403 Validation Accuracy: 0.408600 L/V: 3.524956\n",
      "Epoch  3, CIFAR-10 Batch 3:  Loss:     1.2588 Validation Accuracy: 0.421000 L/V: 2.990044\n",
      "Epoch  3, CIFAR-10 Batch 4:  Loss:     1.4874 Validation Accuracy: 0.425000 L/V: 3.499766\n",
      "Epoch  3, CIFAR-10 Batch 5:  Loss:     1.5314 Validation Accuracy: 0.433800 L/V: 3.530165\n",
      "Epoch  4, CIFAR-10 Batch 1:  Loss:     1.4628 Validation Accuracy: 0.440400 L/V: 3.321546\n",
      "Epoch  4, CIFAR-10 Batch 2:  Loss:     1.3088 Validation Accuracy: 0.445400 L/V: 2.938537\n",
      "Epoch  4, CIFAR-10 Batch 3:  Loss:     1.1607 Validation Accuracy: 0.451200 L/V: 2.572583\n",
      "Epoch  4, CIFAR-10 Batch 4:  Loss:     1.3500 Validation Accuracy: 0.434800 L/V: 3.104940\n",
      "Epoch  4, CIFAR-10 Batch 5:  Loss:     1.4647 Validation Accuracy: 0.458600 L/V: 3.193947\n",
      "Epoch  5, CIFAR-10 Batch 1:  Loss:     1.3457 Validation Accuracy: 0.460600 L/V: 2.921574\n",
      "Epoch  5, CIFAR-10 Batch 2:  Loss:     1.2027 Validation Accuracy: 0.460400 L/V: 2.612273\n",
      "Epoch  5, CIFAR-10 Batch 3:  Loss:     1.0407 Validation Accuracy: 0.468000 L/V: 2.223702\n",
      "Epoch  5, CIFAR-10 Batch 4:  Loss:     1.2668 Validation Accuracy: 0.478600 L/V: 2.646917\n",
      "Epoch  5, CIFAR-10 Batch 5:  Loss:     1.3026 Validation Accuracy: 0.471200 L/V: 2.764513\n",
      "Epoch  6, CIFAR-10 Batch 1:  Loss:     1.2517 Validation Accuracy: 0.489000 L/V: 2.559743\n",
      "Epoch  6, CIFAR-10 Batch 2:  Loss:     1.0706 Validation Accuracy: 0.475800 L/V: 2.250018\n",
      "Epoch  6, CIFAR-10 Batch 3:  Loss:     0.9779 Validation Accuracy: 0.489200 L/V: 1.998897\n",
      "Epoch  6, CIFAR-10 Batch 4:  Loss:     1.2117 Validation Accuracy: 0.490800 L/V: 2.468793\n",
      "Epoch  6, CIFAR-10 Batch 5:  Loss:     1.2587 Validation Accuracy: 0.498200 L/V: 2.526423\n",
      "Epoch  7, CIFAR-10 Batch 1:  Loss:     1.1651 Validation Accuracy: 0.501400 L/V: 2.323790\n",
      "Epoch  7, CIFAR-10 Batch 2:  Loss:     0.9886 Validation Accuracy: 0.499200 L/V: 1.980442\n",
      "Epoch  7, CIFAR-10 Batch 3:  Loss:     0.9003 Validation Accuracy: 0.493200 L/V: 1.825382\n",
      "Epoch  7, CIFAR-10 Batch 4:  Loss:     1.0946 Validation Accuracy: 0.506400 L/V: 2.161557\n",
      "Epoch  7, CIFAR-10 Batch 5:  Loss:     1.1621 Validation Accuracy: 0.507400 L/V: 2.290369\n",
      "Epoch  8, CIFAR-10 Batch 1:  Loss:     1.1198 Validation Accuracy: 0.522000 L/V: 2.145159\n",
      "Epoch  8, CIFAR-10 Batch 2:  Loss:     0.8936 Validation Accuracy: 0.501200 L/V: 1.782967\n",
      "Epoch  8, CIFAR-10 Batch 3:  Loss:     0.8225 Validation Accuracy: 0.518600 L/V: 1.586021\n",
      "Epoch  8, CIFAR-10 Batch 4:  Loss:     1.0464 Validation Accuracy: 0.524000 L/V: 1.996992\n",
      "Epoch  8, CIFAR-10 Batch 5:  Loss:     1.0939 Validation Accuracy: 0.514400 L/V: 2.126602\n",
      "Epoch  9, CIFAR-10 Batch 1:  Loss:     1.0085 Validation Accuracy: 0.525200 L/V: 1.920230\n",
      "Epoch  9, CIFAR-10 Batch 2:  Loss:     0.8468 Validation Accuracy: 0.527000 L/V: 1.606757\n",
      "Epoch  9, CIFAR-10 Batch 3:  Loss:     0.7790 Validation Accuracy: 0.526000 L/V: 1.481063\n",
      "Epoch  9, CIFAR-10 Batch 4:  Loss:     0.9848 Validation Accuracy: 0.538800 L/V: 1.827839\n",
      "Epoch  9, CIFAR-10 Batch 5:  Loss:     1.0452 Validation Accuracy: 0.518400 L/V: 2.016220\n",
      "Epoch 10, CIFAR-10 Batch 1:  Loss:     0.9889 Validation Accuracy: 0.522200 L/V: 1.893763\n",
      "Epoch 10, CIFAR-10 Batch 2:  Loss:     0.7766 Validation Accuracy: 0.516800 L/V: 1.502748\n",
      "Epoch 10, CIFAR-10 Batch 3:  Loss:     0.7522 Validation Accuracy: 0.548200 L/V: 1.372170\n",
      "Epoch 10, CIFAR-10 Batch 4:  Loss:     0.9402 Validation Accuracy: 0.532000 L/V: 1.767256\n",
      "Epoch 10, CIFAR-10 Batch 5:  Loss:     0.9826 Validation Accuracy: 0.527400 L/V: 1.863096\n",
      "Epoch 11, CIFAR-10 Batch 1:  Loss:     0.9175 Validation Accuracy: 0.543600 L/V: 1.687851\n",
      "Epoch 11, CIFAR-10 Batch 2:  Loss:     0.6585 Validation Accuracy: 0.534000 L/V: 1.233199\n",
      "Epoch 11, CIFAR-10 Batch 3:  Loss:     0.6965 Validation Accuracy: 0.551400 L/V: 1.263092\n",
      "Epoch 11, CIFAR-10 Batch 4:  Loss:     0.8653 Validation Accuracy: 0.553600 L/V: 1.563071\n",
      "Epoch 11, CIFAR-10 Batch 5:  Loss:     0.9341 Validation Accuracy: 0.548400 L/V: 1.703286\n",
      "Epoch 12, CIFAR-10 Batch 1:  Loss:     0.8473 Validation Accuracy: 0.553600 L/V: 1.530494\n",
      "Epoch 12, CIFAR-10 Batch 2:  Loss:     0.6981 Validation Accuracy: 0.537600 L/V: 1.298492\n",
      "Epoch 12, CIFAR-10 Batch 3:  Loss:     0.6438 Validation Accuracy: 0.547400 L/V: 1.176167\n",
      "Epoch 12, CIFAR-10 Batch 4:  Loss:     0.8154 Validation Accuracy: 0.562600 L/V: 1.449339\n",
      "Epoch 12, CIFAR-10 Batch 5:  Loss:     0.8646 Validation Accuracy: 0.545600 L/V: 1.584766\n",
      "Epoch 13, CIFAR-10 Batch 1:  Loss:     0.8132 Validation Accuracy: 0.558600 L/V: 1.455823\n",
      "Epoch 13, CIFAR-10 Batch 2:  Loss:     0.6028 Validation Accuracy: 0.537800 L/V: 1.120896\n",
      "Epoch 13, CIFAR-10 Batch 3:  Loss:     0.6297 Validation Accuracy: 0.558000 L/V: 1.128499\n",
      "Epoch 13, CIFAR-10 Batch 4:  Loss:     0.7709 Validation Accuracy: 0.556000 L/V: 1.386520\n",
      "Epoch 13, CIFAR-10 Batch 5:  Loss:     0.8007 Validation Accuracy: 0.555200 L/V: 1.442207\n",
      "Epoch 14, CIFAR-10 Batch 1:  Loss:     0.7685 Validation Accuracy: 0.567200 L/V: 1.354847\n",
      "Epoch 14, CIFAR-10 Batch 2:  Loss:     0.5447 Validation Accuracy: 0.551400 L/V: 0.987847\n",
      "Epoch 14, CIFAR-10 Batch 3:  Loss:     0.6082 Validation Accuracy: 0.566800 L/V: 1.072966\n",
      "Epoch 14, CIFAR-10 Batch 4:  Loss:     0.7208 Validation Accuracy: 0.562600 L/V: 1.281221\n",
      "Epoch 14, CIFAR-10 Batch 5:  Loss:     0.7613 Validation Accuracy: 0.555800 L/V: 1.369699\n",
      "Epoch 15, CIFAR-10 Batch 1:  Loss:     0.7431 Validation Accuracy: 0.570000 L/V: 1.303649\n",
      "Epoch 15, CIFAR-10 Batch 2:  Loss:     0.5208 Validation Accuracy: 0.542200 L/V: 0.960590\n",
      "Epoch 15, CIFAR-10 Batch 3:  Loss:     0.5890 Validation Accuracy: 0.555800 L/V: 1.059680\n",
      "Epoch 15, CIFAR-10 Batch 4:  Loss:     0.7102 Validation Accuracy: 0.563600 L/V: 1.260039\n",
      "Epoch 15, CIFAR-10 Batch 5:  Loss:     0.7194 Validation Accuracy: 0.562000 L/V: 1.280000\n",
      "Epoch 16, CIFAR-10 Batch 1:  Loss:     0.6730 Validation Accuracy: 0.576000 L/V: 1.168459\n",
      "Epoch 16, CIFAR-10 Batch 2:  Loss:     0.4748 Validation Accuracy: 0.558200 L/V: 0.850611\n",
      "Epoch 16, CIFAR-10 Batch 3:  Loss:     0.5255 Validation Accuracy: 0.567000 L/V: 0.926739\n",
      "Epoch 16, CIFAR-10 Batch 4:  Loss:     0.6631 Validation Accuracy: 0.571600 L/V: 1.160143\n",
      "Epoch 16, CIFAR-10 Batch 5:  Loss:     0.6739 Validation Accuracy: 0.577200 L/V: 1.167601\n",
      "Epoch 17, CIFAR-10 Batch 1:  Loss:     0.6494 Validation Accuracy: 0.578600 L/V: 1.122362\n",
      "Epoch 17, CIFAR-10 Batch 2:  Loss:     0.4453 Validation Accuracy: 0.547000 L/V: 0.814093\n",
      "Epoch 17, CIFAR-10 Batch 3:  Loss:     0.4823 Validation Accuracy: 0.581200 L/V: 0.829788\n",
      "Epoch 17, CIFAR-10 Batch 4:  Loss:     0.5923 Validation Accuracy: 0.572200 L/V: 1.035167\n",
      "Epoch 17, CIFAR-10 Batch 5:  Loss:     0.6226 Validation Accuracy: 0.580600 L/V: 1.072331\n",
      "Epoch 18, CIFAR-10 Batch 1:  Loss:     0.6213 Validation Accuracy: 0.571800 L/V: 1.086560\n",
      "Epoch 18, CIFAR-10 Batch 2:  Loss:     0.4459 Validation Accuracy: 0.568600 L/V: 0.784142\n",
      "Epoch 18, CIFAR-10 Batch 3:  Loss:     0.4825 Validation Accuracy: 0.576600 L/V: 0.836755\n",
      "Epoch 18, CIFAR-10 Batch 4:  Loss:     0.5874 Validation Accuracy: 0.578000 L/V: 1.016308\n",
      "Epoch 18, CIFAR-10 Batch 5:  Loss:     0.6093 Validation Accuracy: 0.574200 L/V: 1.061062\n",
      "Epoch 19, CIFAR-10 Batch 1:  Loss:     0.5589 Validation Accuracy: 0.574000 L/V: 0.973778\n",
      "Epoch 19, CIFAR-10 Batch 2:  Loss:     0.4173 Validation Accuracy: 0.574000 L/V: 0.726999\n",
      "Epoch 19, CIFAR-10 Batch 3:  Loss:     0.4286 Validation Accuracy: 0.573800 L/V: 0.746864\n",
      "Epoch 19, CIFAR-10 Batch 4:  Loss:     0.5622 Validation Accuracy: 0.585000 L/V: 0.961101\n",
      "Epoch 19, CIFAR-10 Batch 5:  Loss:     0.5721 Validation Accuracy: 0.575600 L/V: 0.994003\n",
      "Epoch 20, CIFAR-10 Batch 1:  Loss:     0.5614 Validation Accuracy: 0.581200 L/V: 0.965914\n",
      "Epoch 20, CIFAR-10 Batch 2:  Loss:     0.3635 Validation Accuracy: 0.574400 L/V: 0.632789\n",
      "Epoch 20, CIFAR-10 Batch 3:  Loss:     0.4089 Validation Accuracy: 0.585400 L/V: 0.698574\n",
      "Epoch 20, CIFAR-10 Batch 4:  Loss:     0.5288 Validation Accuracy: 0.581600 L/V: 0.909288\n",
      "Epoch 20, CIFAR-10 Batch 5:  Loss:     0.5621 Validation Accuracy: 0.573600 L/V: 0.980030\n",
      "Epoch 21, CIFAR-10 Batch 1:  Loss:     0.5187 Validation Accuracy: 0.581400 L/V: 0.892145\n",
      "Epoch 21, CIFAR-10 Batch 2:  Loss:     0.3345 Validation Accuracy: 0.571600 L/V: 0.585172\n",
      "Epoch 21, CIFAR-10 Batch 3:  Loss:     0.4054 Validation Accuracy: 0.570000 L/V: 0.711302\n",
      "Epoch 21, CIFAR-10 Batch 4:  Loss:     0.4824 Validation Accuracy: 0.586600 L/V: 0.822400\n",
      "Epoch 21, CIFAR-10 Batch 5:  Loss:     0.5357 Validation Accuracy: 0.568800 L/V: 0.941743\n",
      "Epoch 22, CIFAR-10 Batch 1:  Loss:     0.4969 Validation Accuracy: 0.579400 L/V: 0.857666\n",
      "Epoch 22, CIFAR-10 Batch 2:  Loss:     0.3439 Validation Accuracy: 0.583200 L/V: 0.589652\n",
      "Epoch 22, CIFAR-10 Batch 3:  Loss:     0.3711 Validation Accuracy: 0.588600 L/V: 0.630462\n",
      "Epoch 22, CIFAR-10 Batch 4:  Loss:     0.5084 Validation Accuracy: 0.583200 L/V: 0.871674\n",
      "Epoch 22, CIFAR-10 Batch 5:  Loss:     0.4797 Validation Accuracy: 0.577400 L/V: 0.830831\n",
      "Epoch 23, CIFAR-10 Batch 1:  Loss:     0.4723 Validation Accuracy: 0.580400 L/V: 0.813740\n",
      "Epoch 23, CIFAR-10 Batch 2:  Loss:     0.3336 Validation Accuracy: 0.588200 L/V: 0.567109\n",
      "Epoch 23, CIFAR-10 Batch 3:  Loss:     0.3380 Validation Accuracy: 0.583400 L/V: 0.579333\n",
      "Epoch 23, CIFAR-10 Batch 4:  Loss:     0.4249 Validation Accuracy: 0.600000 L/V: 0.708249\n",
      "Epoch 23, CIFAR-10 Batch 5:  Loss:     0.4502 Validation Accuracy: 0.584000 L/V: 0.770969\n",
      "Epoch 24, CIFAR-10 Batch 1:  Loss:     0.4354 Validation Accuracy: 0.585800 L/V: 0.743327\n",
      "Epoch 24, CIFAR-10 Batch 2:  Loss:     0.3346 Validation Accuracy: 0.579000 L/V: 0.577978\n",
      "Epoch 24, CIFAR-10 Batch 3:  Loss:     0.3211 Validation Accuracy: 0.594200 L/V: 0.540352\n",
      "Epoch 24, CIFAR-10 Batch 4:  Loss:     0.3985 Validation Accuracy: 0.600200 L/V: 0.663988\n",
      "Epoch 24, CIFAR-10 Batch 5:  Loss:     0.4300 Validation Accuracy: 0.587000 L/V: 0.732508\n",
      "Epoch 25, CIFAR-10 Batch 1:  Loss:     0.4107 Validation Accuracy: 0.598400 L/V: 0.686269\n",
      "Epoch 25, CIFAR-10 Batch 2:  Loss:     0.2639 Validation Accuracy: 0.586400 L/V: 0.450095\n",
      "Epoch 25, CIFAR-10 Batch 3:  Loss:     0.3009 Validation Accuracy: 0.590600 L/V: 0.509448\n",
      "Epoch 25, CIFAR-10 Batch 4:  Loss:     0.3744 Validation Accuracy: 0.595600 L/V: 0.628547\n",
      "Epoch 25, CIFAR-10 Batch 5:  Loss:     0.4426 Validation Accuracy: 0.583800 L/V: 0.758164\n",
      "Epoch 26, CIFAR-10 Batch 1:  Loss:     0.4161 Validation Accuracy: 0.577400 L/V: 0.720590\n",
      "Epoch 26, CIFAR-10 Batch 2:  Loss:     0.2714 Validation Accuracy: 0.591400 L/V: 0.458958\n",
      "Epoch 26, CIFAR-10 Batch 3:  Loss:     0.2923 Validation Accuracy: 0.596400 L/V: 0.490043\n",
      "Epoch 26, CIFAR-10 Batch 4:  Loss:     0.3761 Validation Accuracy: 0.591200 L/V: 0.636159\n",
      "Epoch 26, CIFAR-10 Batch 5:  Loss:     0.4116 Validation Accuracy: 0.579200 L/V: 0.710613\n",
      "Epoch 27, CIFAR-10 Batch 1:  Loss:     0.3883 Validation Accuracy: 0.577600 L/V: 0.672199\n",
      "Epoch 27, CIFAR-10 Batch 2:  Loss:     0.2295 Validation Accuracy: 0.590000 L/V: 0.389061\n",
      "Epoch 27, CIFAR-10 Batch 3:  Loss:     0.2742 Validation Accuracy: 0.578800 L/V: 0.473772\n",
      "Epoch 27, CIFAR-10 Batch 4:  Loss:     0.3735 Validation Accuracy: 0.584400 L/V: 0.639133\n",
      "Epoch 27, CIFAR-10 Batch 5:  Loss:     0.4075 Validation Accuracy: 0.572400 L/V: 0.711846\n",
      "Epoch 28, CIFAR-10 Batch 1:  Loss:     0.3624 Validation Accuracy: 0.586200 L/V: 0.618142\n",
      "Epoch 28, CIFAR-10 Batch 2:  Loss:     0.2492 Validation Accuracy: 0.590000 L/V: 0.422365\n",
      "Epoch 28, CIFAR-10 Batch 3:  Loss:     0.2645 Validation Accuracy: 0.590200 L/V: 0.448093\n",
      "Epoch 28, CIFAR-10 Batch 4:  Loss:     0.3427 Validation Accuracy: 0.590000 L/V: 0.580853\n",
      "Epoch 28, CIFAR-10 Batch 5:  Loss:     0.3812 Validation Accuracy: 0.589800 L/V: 0.646392\n",
      "Epoch 29, CIFAR-10 Batch 1:  Loss:     0.3331 Validation Accuracy: 0.570000 L/V: 0.584329\n",
      "Epoch 29, CIFAR-10 Batch 2:  Loss:     0.2309 Validation Accuracy: 0.597200 L/V: 0.386588\n",
      "Epoch 29, CIFAR-10 Batch 3:  Loss:     0.2339 Validation Accuracy: 0.590400 L/V: 0.396120\n",
      "Epoch 29, CIFAR-10 Batch 4:  Loss:     0.3218 Validation Accuracy: 0.593000 L/V: 0.542707\n",
      "Epoch 29, CIFAR-10 Batch 5:  Loss:     0.3814 Validation Accuracy: 0.591000 L/V: 0.645369\n",
      "Epoch 30, CIFAR-10 Batch 1:  Loss:     0.3405 Validation Accuracy: 0.580400 L/V: 0.586724\n",
      "Epoch 30, CIFAR-10 Batch 2:  Loss:     0.1988 Validation Accuracy: 0.592800 L/V: 0.335314\n",
      "Epoch 30, CIFAR-10 Batch 3:  Loss:     0.2271 Validation Accuracy: 0.592800 L/V: 0.383105\n",
      "Epoch 30, CIFAR-10 Batch 4:  Loss:     0.3035 Validation Accuracy: 0.590200 L/V: 0.514238\n",
      "Epoch 30, CIFAR-10 Batch 5:  Loss:     0.3561 Validation Accuracy: 0.595200 L/V: 0.598221\n",
      "Epoch 31, CIFAR-10 Batch 1:  Loss:     0.3153 Validation Accuracy: 0.588600 L/V: 0.535652\n",
      "Epoch 31, CIFAR-10 Batch 2:  Loss:     0.1956 Validation Accuracy: 0.600000 L/V: 0.326025\n",
      "Epoch 31, CIFAR-10 Batch 3:  Loss:     0.2096 Validation Accuracy: 0.599200 L/V: 0.349808\n",
      "Epoch 31, CIFAR-10 Batch 4:  Loss:     0.2712 Validation Accuracy: 0.603200 L/V: 0.449608\n",
      "Epoch 31, CIFAR-10 Batch 5:  Loss:     0.3488 Validation Accuracy: 0.599800 L/V: 0.581577\n",
      "Epoch 32, CIFAR-10 Batch 1:  Loss:     0.2856 Validation Accuracy: 0.578800 L/V: 0.493410\n",
      "Epoch 32, CIFAR-10 Batch 2:  Loss:     0.1611 Validation Accuracy: 0.599400 L/V: 0.268834\n",
      "Epoch 32, CIFAR-10 Batch 3:  Loss:     0.2154 Validation Accuracy: 0.597800 L/V: 0.360266\n",
      "Epoch 32, CIFAR-10 Batch 4:  Loss:     0.2720 Validation Accuracy: 0.597200 L/V: 0.455518\n",
      "Epoch 32, CIFAR-10 Batch 5:  Loss:     0.3238 Validation Accuracy: 0.594200 L/V: 0.545005\n",
      "Epoch 33, CIFAR-10 Batch 1:  Loss:     0.2644 Validation Accuracy: 0.579000 L/V: 0.456713\n",
      "Epoch 33, CIFAR-10 Batch 2:  Loss:     0.1701 Validation Accuracy: 0.594600 L/V: 0.286039\n",
      "Epoch 33, CIFAR-10 Batch 3:  Loss:     0.2152 Validation Accuracy: 0.594000 L/V: 0.362230\n",
      "Epoch 33, CIFAR-10 Batch 4:  Loss:     0.2555 Validation Accuracy: 0.581600 L/V: 0.439241\n",
      "Epoch 33, CIFAR-10 Batch 5:  Loss:     0.3408 Validation Accuracy: 0.579200 L/V: 0.588467\n",
      "Epoch 34, CIFAR-10 Batch 1:  Loss:     0.2599 Validation Accuracy: 0.576800 L/V: 0.450580\n",
      "Epoch 34, CIFAR-10 Batch 2:  Loss:     0.1556 Validation Accuracy: 0.601200 L/V: 0.258812\n",
      "Epoch 34, CIFAR-10 Batch 3:  Loss:     0.1903 Validation Accuracy: 0.609200 L/V: 0.312458\n",
      "Epoch 34, CIFAR-10 Batch 4:  Loss:     0.2245 Validation Accuracy: 0.582600 L/V: 0.385339\n",
      "Epoch 34, CIFAR-10 Batch 5:  Loss:     0.2905 Validation Accuracy: 0.598800 L/V: 0.485135\n",
      "Epoch 35, CIFAR-10 Batch 1:  Loss:     0.2576 Validation Accuracy: 0.580200 L/V: 0.443912\n",
      "Epoch 35, CIFAR-10 Batch 2:  Loss:     0.1524 Validation Accuracy: 0.597200 L/V: 0.255150\n",
      "Epoch 35, CIFAR-10 Batch 3:  Loss:     0.1781 Validation Accuracy: 0.604200 L/V: 0.294804\n",
      "Epoch 35, CIFAR-10 Batch 4:  Loss:     0.2227 Validation Accuracy: 0.590400 L/V: 0.377155\n",
      "Epoch 35, CIFAR-10 Batch 5:  Loss:     0.2810 Validation Accuracy: 0.600400 L/V: 0.468016\n",
      "Epoch 36, CIFAR-10 Batch 1:  Loss:     0.2324 Validation Accuracy: 0.568800 L/V: 0.408664\n",
      "Epoch 36, CIFAR-10 Batch 2:  Loss:     0.1523 Validation Accuracy: 0.597000 L/V: 0.255053\n",
      "Epoch 36, CIFAR-10 Batch 3:  Loss:     0.1696 Validation Accuracy: 0.591200 L/V: 0.286914\n",
      "Epoch 36, CIFAR-10 Batch 4:  Loss:     0.1975 Validation Accuracy: 0.587000 L/V: 0.336382\n",
      "Epoch 36, CIFAR-10 Batch 5:  Loss:     0.2887 Validation Accuracy: 0.578600 L/V: 0.498890\n",
      "Epoch 37, CIFAR-10 Batch 1:  Loss:     0.2441 Validation Accuracy: 0.586400 L/V: 0.416238\n",
      "Epoch 37, CIFAR-10 Batch 2:  Loss:     0.1439 Validation Accuracy: 0.607800 L/V: 0.236801\n",
      "Epoch 37, CIFAR-10 Batch 3:  Loss:     0.1731 Validation Accuracy: 0.599200 L/V: 0.288914\n",
      "Epoch 37, CIFAR-10 Batch 4:  Loss:     0.1988 Validation Accuracy: 0.591200 L/V: 0.336349\n",
      "Epoch 37, CIFAR-10 Batch 5:  Loss:     0.2683 Validation Accuracy: 0.589200 L/V: 0.455279\n",
      "Epoch 38, CIFAR-10 Batch 1:  Loss:     0.2211 Validation Accuracy: 0.574200 L/V: 0.384989\n",
      "Epoch 38, CIFAR-10 Batch 2:  Loss:     0.1345 Validation Accuracy: 0.597000 L/V: 0.225252\n",
      "Epoch 38, CIFAR-10 Batch 3:  Loss:     0.1706 Validation Accuracy: 0.598000 L/V: 0.285296\n",
      "Epoch 38, CIFAR-10 Batch 4:  Loss:     0.1925 Validation Accuracy: 0.605800 L/V: 0.317767\n",
      "Epoch 38, CIFAR-10 Batch 5:  Loss:     0.2755 Validation Accuracy: 0.601000 L/V: 0.458387\n",
      "Epoch 39, CIFAR-10 Batch 1:  Loss:     0.2046 Validation Accuracy: 0.595200 L/V: 0.343800\n",
      "Epoch 39, CIFAR-10 Batch 2:  Loss:     0.1510 Validation Accuracy: 0.585400 L/V: 0.258002\n",
      "Epoch 39, CIFAR-10 Batch 3:  Loss:     0.1680 Validation Accuracy: 0.602800 L/V: 0.278618\n",
      "Epoch 39, CIFAR-10 Batch 4:  Loss:     0.2131 Validation Accuracy: 0.584400 L/V: 0.364683\n",
      "Epoch 39, CIFAR-10 Batch 5:  Loss:     0.2588 Validation Accuracy: 0.602400 L/V: 0.429609\n",
      "Epoch 40, CIFAR-10 Batch 1:  Loss:     0.1991 Validation Accuracy: 0.594200 L/V: 0.335036\n",
      "Epoch 40, CIFAR-10 Batch 2:  Loss:     0.1163 Validation Accuracy: 0.602200 L/V: 0.193140\n",
      "Epoch 40, CIFAR-10 Batch 3:  Loss:     0.2074 Validation Accuracy: 0.569200 L/V: 0.364319\n",
      "Epoch 40, CIFAR-10 Batch 4:  Loss:     0.2150 Validation Accuracy: 0.593600 L/V: 0.362228\n",
      "Epoch 40, CIFAR-10 Batch 5:  Loss:     0.2529 Validation Accuracy: 0.599800 L/V: 0.421628\n",
      "Epoch 41, CIFAR-10 Batch 1:  Loss:     0.1953 Validation Accuracy: 0.603000 L/V: 0.323963\n",
      "Epoch 41, CIFAR-10 Batch 2:  Loss:     0.1242 Validation Accuracy: 0.588800 L/V: 0.211000\n",
      "Epoch 41, CIFAR-10 Batch 3:  Loss:     0.1528 Validation Accuracy: 0.600800 L/V: 0.254269\n",
      "Epoch 41, CIFAR-10 Batch 4:  Loss:     0.1684 Validation Accuracy: 0.597000 L/V: 0.282136\n",
      "Epoch 41, CIFAR-10 Batch 5:  Loss:     0.2655 Validation Accuracy: 0.599800 L/V: 0.442628\n",
      "Epoch 42, CIFAR-10 Batch 1:  Loss:     0.2393 Validation Accuracy: 0.597600 L/V: 0.400357\n",
      "Epoch 42, CIFAR-10 Batch 2:  Loss:     0.1017 Validation Accuracy: 0.589200 L/V: 0.172627\n",
      "Epoch 42, CIFAR-10 Batch 3:  Loss:     0.1404 Validation Accuracy: 0.592600 L/V: 0.236952\n",
      "Epoch 42, CIFAR-10 Batch 4:  Loss:     0.1788 Validation Accuracy: 0.598000 L/V: 0.299001\n",
      "Epoch 42, CIFAR-10 Batch 5:  Loss:     0.2577 Validation Accuracy: 0.601000 L/V: 0.428799\n",
      "Epoch 43, CIFAR-10 Batch 1:  Loss:     0.2095 Validation Accuracy: 0.602200 L/V: 0.347874\n",
      "Epoch 43, CIFAR-10 Batch 2:  Loss:     0.1038 Validation Accuracy: 0.584600 L/V: 0.177475\n",
      "Epoch 43, CIFAR-10 Batch 3:  Loss:     0.1499 Validation Accuracy: 0.596800 L/V: 0.251091\n",
      "Epoch 43, CIFAR-10 Batch 4:  Loss:     0.1975 Validation Accuracy: 0.597200 L/V: 0.330654\n",
      "Epoch 43, CIFAR-10 Batch 5:  Loss:     0.1991 Validation Accuracy: 0.601800 L/V: 0.330779\n",
      "Epoch 44, CIFAR-10 Batch 1:  Loss:     0.1765 Validation Accuracy: 0.599800 L/V: 0.294299\n",
      "Epoch 44, CIFAR-10 Batch 2:  Loss:     0.0968 Validation Accuracy: 0.585000 L/V: 0.165522\n",
      "Epoch 44, CIFAR-10 Batch 3:  Loss:     0.1446 Validation Accuracy: 0.591200 L/V: 0.244509\n",
      "Epoch 44, CIFAR-10 Batch 4:  Loss:     0.1833 Validation Accuracy: 0.603800 L/V: 0.303658\n",
      "Epoch 44, CIFAR-10 Batch 5:  Loss:     0.2168 Validation Accuracy: 0.593600 L/V: 0.365149\n",
      "Epoch 45, CIFAR-10 Batch 1:  Loss:     0.1772 Validation Accuracy: 0.601800 L/V: 0.294453\n",
      "Epoch 45, CIFAR-10 Batch 2:  Loss:     0.0924 Validation Accuracy: 0.570000 L/V: 0.162111\n",
      "Epoch 45, CIFAR-10 Batch 3:  Loss:     0.1432 Validation Accuracy: 0.585600 L/V: 0.244620\n",
      "Epoch 45, CIFAR-10 Batch 4:  Loss:     0.1643 Validation Accuracy: 0.601600 L/V: 0.273094\n",
      "Epoch 45, CIFAR-10 Batch 5:  Loss:     0.1954 Validation Accuracy: 0.598400 L/V: 0.326510\n",
      "Epoch 46, CIFAR-10 Batch 1:  Loss:     0.1796 Validation Accuracy: 0.602400 L/V: 0.298105\n",
      "Epoch 46, CIFAR-10 Batch 2:  Loss:     0.1242 Validation Accuracy: 0.577200 L/V: 0.215237\n",
      "Epoch 46, CIFAR-10 Batch 3:  Loss:     0.1235 Validation Accuracy: 0.591600 L/V: 0.208771\n",
      "Epoch 46, CIFAR-10 Batch 4:  Loss:     0.1583 Validation Accuracy: 0.607000 L/V: 0.260809\n",
      "Epoch 46, CIFAR-10 Batch 5:  Loss:     0.1902 Validation Accuracy: 0.601400 L/V: 0.316204\n",
      "Epoch 47, CIFAR-10 Batch 1:  Loss:     0.1547 Validation Accuracy: 0.605600 L/V: 0.255399\n",
      "Epoch 47, CIFAR-10 Batch 2:  Loss:     0.0870 Validation Accuracy: 0.579200 L/V: 0.150153\n",
      "Epoch 47, CIFAR-10 Batch 3:  Loss:     0.1100 Validation Accuracy: 0.596800 L/V: 0.184266\n",
      "Epoch 47, CIFAR-10 Batch 4:  Loss:     0.1647 Validation Accuracy: 0.605200 L/V: 0.272077\n",
      "Epoch 47, CIFAR-10 Batch 5:  Loss:     0.2009 Validation Accuracy: 0.595600 L/V: 0.337352\n",
      "Epoch 48, CIFAR-10 Batch 1:  Loss:     0.1440 Validation Accuracy: 0.605600 L/V: 0.237820\n",
      "Epoch 48, CIFAR-10 Batch 2:  Loss:     0.0751 Validation Accuracy: 0.571400 L/V: 0.131490\n",
      "Epoch 48, CIFAR-10 Batch 3:  Loss:     0.1263 Validation Accuracy: 0.596000 L/V: 0.211870\n",
      "Epoch 48, CIFAR-10 Batch 4:  Loss:     0.1680 Validation Accuracy: 0.604000 L/V: 0.278178\n",
      "Epoch 48, CIFAR-10 Batch 5:  Loss:     0.1849 Validation Accuracy: 0.599600 L/V: 0.308451\n",
      "Epoch 49, CIFAR-10 Batch 1:  Loss:     0.1410 Validation Accuracy: 0.603600 L/V: 0.233552\n",
      "Epoch 49, CIFAR-10 Batch 2:  Loss:     0.0695 Validation Accuracy: 0.578600 L/V: 0.120091\n",
      "Epoch 49, CIFAR-10 Batch 3:  Loss:     0.1211 Validation Accuracy: 0.595800 L/V: 0.203205\n",
      "Epoch 49, CIFAR-10 Batch 4:  Loss:     0.1495 Validation Accuracy: 0.597000 L/V: 0.250439\n",
      "Epoch 49, CIFAR-10 Batch 5:  Loss:     0.1816 Validation Accuracy: 0.592800 L/V: 0.306333\n",
      "Epoch 50, CIFAR-10 Batch 1:  Loss:     0.1216 Validation Accuracy: 0.606200 L/V: 0.200663\n",
      "Epoch 50, CIFAR-10 Batch 2:  Loss:     0.0652 Validation Accuracy: 0.576800 L/V: 0.113023\n",
      "Epoch 50, CIFAR-10 Batch 3:  Loss:     0.1372 Validation Accuracy: 0.582000 L/V: 0.235714\n",
      "Epoch 50, CIFAR-10 Batch 4:  Loss:     0.1452 Validation Accuracy: 0.596000 L/V: 0.243541\n",
      "Epoch 50, CIFAR-10 Batch 5:  Loss:     0.1625 Validation Accuracy: 0.597400 L/V: 0.271959\n"
     ]
    }
   ],
   "source": [
    "\"\"\"\n",
    "DON'T MODIFY ANYTHING IN THIS CELL\n",
    "\"\"\"\n",
    "save_model_path = './image_classification'\n",
    "\n",
    "print('Training...')\n",
    "with tf.Session() as sess:\n",
    "    # Initializing the variables\n",
    "    sess.run(tf.global_variables_initializer())\n",
    "    \n",
    "    # Training cycle\n",
    "    for epoch in range(epochs):\n",
    "        # Loop over all batches\n",
    "        n_batches = 5\n",
    "        for batch_i in range(1, n_batches + 1):\n",
    "            for batch_features, batch_labels in helper.load_preprocess_training_batch(batch_i, batch_size):\n",
    "                train_neural_network(sess, optimizer, keep_probability, batch_features, batch_labels)\n",
    "            print('Epoch {:>2}, CIFAR-10 Batch {}:  '.format(epoch + 1, batch_i), end='')\n",
    "            print_stats(sess, batch_features, batch_labels, cost, accuracy)\n",
    "            \n",
    "    # Save Model\n",
    "    saver = tf.train.Saver()\n",
    "    save_path = saver.save(sess, save_model_path)"
   ]
  },
  {
   "cell_type": "markdown",
   "metadata": {},
   "source": [
    "# Checkpoint\n",
    "The model has been saved to disk.\n",
    "## Test Model\n",
    "Test your model against the test dataset.  This will be your final accuracy. You should have an accuracy greater than 50%. If you don't, keep tweaking the model architecture and parameters."
   ]
  },
  {
   "cell_type": "code",
   "execution_count": 28,
   "metadata": {
    "collapsed": false
   },
   "outputs": [
    {
     "name": "stdout",
     "output_type": "stream",
     "text": [
      "Testing Accuracy: 0.57734375\n",
      "\n"
     ]
    },
    {
     "data": {
      "image/png": "[encoded data removed]",
      "text/plain": [
       "<matplotlib.figure.Figure at 0x97b29b0>"
      ]
     },
     "metadata": {
      "image/png": {
       "height": 319,
       "width": 355
      }
     },
     "output_type": "display_data"
    }
   ],
   "source": [
    "\"\"\"\n",
    "DON'T MODIFY ANYTHING IN THIS CELL\n",
    "\"\"\"\n",
    "%matplotlib inline\n",
    "%config InlineBackend.figure_format = 'retina'\n",
    "\n",
    "import tensorflow as tf\n",
    "import pickle\n",
    "import helper\n",
    "import random\n",
    "\n",
    "# Set batch size if not already set\n",
    "try:\n",
    "    if batch_size:\n",
    "        pass\n",
    "except NameError:\n",
    "    batch_size = 64\n",
    "\n",
    "save_model_path = './image_classification'\n",
    "n_samples = 4\n",
    "top_n_predictions = 3\n",
    "\n",
    "def test_model():\n",
    "    \"\"\"\n",
    "    Test the saved model against the test dataset\n",
    "    \"\"\"\n",
    "\n",
    "    test_features, test_labels = pickle.load(open('preprocess_training.p', mode='rb'))\n",
    "    loaded_graph = tf.Graph()\n",
    "\n",
    "    with tf.Session(graph=loaded_graph) as sess:\n",
    "        # Load model\n",
    "        loader = tf.train.import_meta_graph(save_model_path + '.meta')\n",
    "        loader.restore(sess, save_model_path)\n",
    "\n",
    "        # Get Tensors from loaded model\n",
    "        loaded_x = loaded_graph.get_tensor_by_name('x:0')\n",
    "        loaded_y = loaded_graph.get_tensor_by_name('y:0')\n",
    "        loaded_keep_prob = loaded_graph.get_tensor_by_name('keep_prob:0')\n",
    "        loaded_logits = loaded_graph.get_tensor_by_name('logits:0')\n",
    "        loaded_acc = loaded_graph.get_tensor_by_name('accuracy:0')\n",
    "        \n",
    "        # Get accuracy in batches for memory limitations\n",
    "        test_batch_acc_total = 0\n",
    "        test_batch_count = 0\n",
    "        \n",
    "        for train_feature_batch, train_label_batch in helper.batch_features_labels(test_features, test_labels, batch_size):\n",
    "            test_batch_acc_total += sess.run(\n",
    "                loaded_acc,\n",
    "                feed_dict={loaded_x: train_feature_batch, loaded_y: train_label_batch, loaded_keep_prob: 1.0})\n",
    "            test_batch_count += 1\n",
    "\n",
    "        print('Testing Accuracy: {}\\n'.format(test_batch_acc_total/test_batch_count))\n",
    "\n",
    "        # Print Random Samples\n",
    "        random_test_features, random_test_labels = tuple(zip(*random.sample(list(zip(test_features, test_labels)), n_samples)))\n",
    "        random_test_predictions = sess.run(\n",
    "            tf.nn.top_k(tf.nn.softmax(loaded_logits), top_n_predictions),\n",
    "            feed_dict={loaded_x: random_test_features, loaded_y: random_test_labels, loaded_keep_prob: 1.0})\n",
    "        helper.display_image_predictions(random_test_features, random_test_labels, random_test_predictions)\n",
    "\n",
    "\n",
    "test_model()\n",
    "\n",
    "##################\n",
    "#! @TUTOR/REVIEWER: why are the images generated below so distored when compared to those being posted on Slack?\n",
    "#! I trained this network on my Windows machine... is there any change there are OS specific idiosyncracies in some of the libraries?\n",
    "##################"
   ]
  },
  {
   "cell_type": "markdown",
   "metadata": {},
   "source": [
    "## Why 50-70% Accuracy?\n",
    "You might be wondering why you can't get an accuracy any higher. First things first, 50% isn't bad for a simple CNN.  Pure guessing would get you 10% accuracy. However, you might notice people are getting scores [well above 70%](http://rodrigob.github.io/are_we_there_yet/build/classification_datasets_results.html#43494641522d3130).  That's because we haven't taught you all there is to know about neural networks. We still need to cover a few more techniques.\n",
    "## Submitting This Project\n",
    "When submitting this project, make sure to run all the cells before saving the notebook.  Save the notebook file as \"dlnd_image_classification.ipynb\" and save it as a HTML file under \"File\" -> \"Download as\".  Include the \"helper.py\" and \"problem_unittests.py\" files in your submission."
   ]
  }
 ],
 "metadata": {
  "kernelspec": {
   "display_name": "Python 3",
   "language": "python",
   "name": "python3"
  },
  "language_info": {
   "codemirror_mode": {
    "name": "ipython",
    "version": 3
   },
   "file_extension": ".py",
   "mimetype": "text/x-python",
   "name": "python",
   "nbconvert_exporter": "python",
   "pygments_lexer": "ipython3",
   "version": "3.5.3"
  }
 },
 "nbformat": 4,
 "nbformat_minor": 0
}
